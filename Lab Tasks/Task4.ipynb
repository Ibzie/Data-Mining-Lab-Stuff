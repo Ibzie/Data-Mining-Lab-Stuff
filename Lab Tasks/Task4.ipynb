{
 "cells": [
  {
   "cell_type": "markdown",
   "source": [
    "### Cleaning The News Dataset Stuff"
   ],
   "metadata": {
    "collapsed": false
   },
   "id": "b0e94df5fd33a59a"
  },
  {
   "cell_type": "code",
   "outputs": [],
   "source": [
    "import pandas as pd\n",
    "import re\n",
    "from bs4 import BeautifulSoup"
   ],
   "metadata": {
    "collapsed": false,
    "ExecuteTime": {
     "end_time": "2024-02-29T15:18:39.972620400Z",
     "start_time": "2024-02-29T15:18:39.696575900Z"
    }
   },
   "id": "36705cdf0be2994",
   "execution_count": 6
  },
  {
   "cell_type": "code",
   "outputs": [
    {
     "name": "stdout",
     "output_type": "stream",
     "text": [
      "                                               title  \\\n",
      "0             Pakistan travel - Lonely Planet | Asia   \n",
      "1           Pakistan Tourism Development Corporation   \n",
      "2          Pakistan International Travel Information   \n",
      "3    Pakistan Travel Advice & Safety | Smartraveller   \n",
      "4  Travel advice and advisories for Pakistan - Tr...   \n",
      "\n",
      "                                         description  \\\n",
      "0  Pakistan is one of Asia's most affordable dest...   \n",
      "1  PTDC is owned by the Government of Pakistan (9...   \n",
      "2  Entry, Exit and Visa Requirements · Obtain you...   \n",
      "3  Australian Government travel advice for Pakist...   \n",
      "4  Travel Advice and Advisories from the Governme...   \n",
      "\n",
      "                       time_ago  \\\n",
      "0            Time not specified   \n",
      "1               Careers in PTDC   \n",
      "2  Dual Nationals: Be aware ...   \n",
      "3            Time not specified   \n",
      "4            Time not specified   \n",
      "\n",
      "                                                link  \n",
      "0              https://www.lonelyplanet.com/pakistan  \n",
      "1                            https://tourism.gov.pk/  \n",
      "2  https://travel.state.gov/content/travel/en/int...  \n",
      "3  https://www.smartraveller.gov.au/destinations/...  \n",
      "4         https://travel.gc.ca/destinations/pakistan  \n"
     ]
    }
   ],
   "source": [
    "df= pd.read_csv(\"scrappedData.csv\", index_col=0)\n",
    "print(df.head())"
   ],
   "metadata": {
    "collapsed": false,
    "ExecuteTime": {
     "end_time": "2024-02-29T15:18:40.379599400Z",
     "start_time": "2024-02-29T15:18:40.335967600Z"
    }
   },
   "id": "ce8d6b91bb4b898c",
   "execution_count": 7
  },
  {
   "cell_type": "code",
   "outputs": [],
   "source": [
    "def clean_html_and_urls(text):\n",
    "    soup = BeautifulSoup(text, \"html.parser\") #remove tagz\n",
    "    cleaned_text = soup.get_text(separator=\" \")\n",
    "    \n",
    "    cleaned_text = re.sub(r\"http\\S+|www\\S+\", \"\", cleaned_text) #remove URLs\n",
    "\n",
    "    return cleaned_text.strip()\n",
    "\n",
    "\n",
    "def remove_special_characters(text):\n",
    "    pattern = r\"[^\\w\\s.,]\" #remove special characters (using regex)\n",
    "    cleaned_text = re.sub(pattern, \"\", text)\n",
    "    \n",
    "    return cleaned_text\n",
    "\n",
    "\n",
    "def convert_to_lowercase(text):\n",
    "    return text.lower()"
   ],
   "metadata": {
    "collapsed": false,
    "ExecuteTime": {
     "end_time": "2024-02-29T15:18:41.156125700Z",
     "start_time": "2024-02-29T15:18:41.133860500Z"
    }
   },
   "id": "210ca7dcf2c4ec2d",
   "execution_count": 8
  },
  {
   "cell_type": "code",
   "outputs": [
    {
     "name": "stdout",
     "output_type": "stream",
     "text": [
      "                                                 title  \\\n",
      "0                 pakistan travel  lonely planet  asia   \n",
      "1             pakistan tourism development corporation   \n",
      "2            pakistan international travel information   \n",
      "3        pakistan travel advice  safety  smartraveller   \n",
      "4    travel advice and advisories for pakistan  tra...   \n",
      "..                                                 ...   \n",
      "306  travel to pakistan updated travel advisory l u...   \n",
      "307  female travelers visit pakistan for the first ...   \n",
      "308  people are deprived of affordable travel facil...   \n",
      "309     pakistan entry  exit new travel rules  youtube   \n",
      "310                                  pakistan  youtube   \n",
      "\n",
      "                                           description  \\\n",
      "0    pakistan is one of asias most affordable desti...   \n",
      "1    ptdc is owned by the government of pakistan 99...   \n",
      "2    entry, exit and visa requirements  obtain your...   \n",
      "3    australian government travel advice for pakist...   \n",
      "4    travel advice and advisories from the governme...   \n",
      "..                                                 ...   \n",
      "306  13jul2021  travel to pakistan updated travel a...   \n",
      "307                                          19aug2020   \n",
      "308                                          02dec2023   \n",
      "309  20aug2022  pakistan entry  exit new travel rul...   \n",
      "310  4 days ago  your browser cant play this video....   \n",
      "\n",
      "                                              time_ago  \\\n",
      "0                                   Time not specified   \n",
      "1                                      Careers in PTDC   \n",
      "2                         Dual Nationals: Be aware ...   \n",
      "3                                   Time not specified   \n",
      "4                                   Time not specified   \n",
      "..                                                 ...   \n",
      "306             2 ...Duration: 8:12Posted: 13-Jul-2021   \n",
      "307  Who says women can't travel to Pakistan? Here'...   \n",
      "308  People Are Deprived of Affordable Travel Facil...   \n",
      "309  1 year ago ...more. ANEES KASHIF BHATTI ...Dur...   \n",
      "310       16 hours ...Duration: 0:03Posted: 4 days ago   \n",
      "\n",
      "                                                  link  \n",
      "0                https://www.lonelyplanet.com/pakistan  \n",
      "1                              https://tourism.gov.pk/  \n",
      "2    https://travel.state.gov/content/travel/en/int...  \n",
      "3    https://www.smartraveller.gov.au/destinations/...  \n",
      "4           https://travel.gc.ca/destinations/pakistan  \n",
      "..                                                 ...  \n",
      "306    https://www.youtube.com/watch%3Fv%3DozQArjJ-F6U  \n",
      "307    https://www.youtube.com/watch%3Fv%3D8LMHXDFbHJg  \n",
      "308    https://www.youtube.com/watch%3Fv%3Dlue-yNEVG_Y  \n",
      "309    https://www.youtube.com/watch%3Fv%3DJM1iEkeGFus  \n",
      "310    https://www.youtube.com/watch%3Fv%3DiOnLB3t0dY8  \n",
      "\n",
      "[311 rows x 4 columns]\n"
     ]
    },
    {
     "name": "stderr",
     "output_type": "stream",
     "text": [
      "C:\\Users\\ibzcl\\AppData\\Local\\Temp\\ipykernel_5376\\3182108427.py:2: MarkupResemblesLocatorWarning: The input looks more like a filename than markup. You may want to open this file and pass the filehandle into Beautiful Soup.\n",
      "  soup = BeautifulSoup(text, \"html.parser\") #remove tagz\n"
     ]
    }
   ],
   "source": [
    "df['title'] = df['title'].apply(clean_html_and_urls)\n",
    "df['title'] = df['title'].apply(remove_special_characters)\n",
    "df['title'] = df['title'].apply(convert_to_lowercase)\n",
    "\n",
    "df['description'] = df['description'].apply(clean_html_and_urls)\n",
    "df['description'] = df['description'].apply(remove_special_characters)\n",
    "df['description'] = df['description'].apply(convert_to_lowercase)\n",
    "\n",
    "print(df)"
   ],
   "metadata": {
    "collapsed": false,
    "ExecuteTime": {
     "end_time": "2024-02-29T15:20:01.470403400Z",
     "start_time": "2024-02-29T15:20:01.398816600Z"
    }
   },
   "id": "35c7d02a4306e834",
   "execution_count": 9
  },
  {
   "cell_type": "code",
   "outputs": [
    {
     "name": "stderr",
     "output_type": "stream",
     "text": [
      "[nltk_data] Downloading package punkt to\n",
      "[nltk_data]     C:\\Users\\ibzcl\\AppData\\Roaming\\nltk_data...\n",
      "[nltk_data]   Package punkt is already up-to-date!\n",
      "[nltk_data] Downloading package stopwords to\n",
      "[nltk_data]     C:\\Users\\ibzcl\\AppData\\Roaming\\nltk_data...\n",
      "[nltk_data]   Unzipping corpora\\stopwords.zip.\n",
      "[nltk_data] Downloading package wordnet to\n",
      "[nltk_data]     C:\\Users\\ibzcl\\AppData\\Roaming\\nltk_data...\n"
     ]
    },
    {
     "data": {
      "text/plain": "True"
     },
     "execution_count": 10,
     "metadata": {},
     "output_type": "execute_result"
    }
   ],
   "source": [
    "import nltk\n",
    "from nltk.corpus import stopwords\n",
    "from nltk.tokenize import word_tokenize\n",
    "from nltk.stem import PorterStemmer, WordNetLemmatizer\n",
    "\n",
    "nltk.download('punkt')\n",
    "nltk.download('stopwords')\n",
    "nltk.download('wordnet')"
   ],
   "metadata": {
    "collapsed": false,
    "ExecuteTime": {
     "end_time": "2024-02-29T15:24:34.581273300Z",
     "start_time": "2024-02-29T15:24:16.421705400Z"
    }
   },
   "id": "e86660ef010d50d1",
   "execution_count": 10
  },
  {
   "cell_type": "code",
   "outputs": [
    {
     "name": "stdout",
     "output_type": "stream",
     "text": [
      "                                               title  \\\n",
      "0               pakistan travel  lonely planet  asia   \n",
      "1           pakistan tourism development corporation   \n",
      "2          pakistan international travel information   \n",
      "3      pakistan travel advice  safety  smartraveller   \n",
      "4  travel advice and advisories for pakistan  tra...   \n",
      "\n",
      "                                         description  \\\n",
      "0  pakistan is one of asias most affordable desti...   \n",
      "1  ptdc is owned by the government of pakistan 99...   \n",
      "2  entry, exit and visa requirements  obtain your...   \n",
      "3  australian government travel advice for pakist...   \n",
      "4  travel advice and advisories from the governme...   \n",
      "\n",
      "                       time_ago  \\\n",
      "0            Time not specified   \n",
      "1               Careers in PTDC   \n",
      "2  Dual Nationals: Be aware ...   \n",
      "3            Time not specified   \n",
      "4            Time not specified   \n",
      "\n",
      "                                                link  \\\n",
      "0              https://www.lonelyplanet.com/pakistan   \n",
      "1                            https://tourism.gov.pk/   \n",
      "2  https://travel.state.gov/content/travel/en/int...   \n",
      "3  https://www.smartraveller.gov.au/destinations/...   \n",
      "4         https://travel.gc.ca/destinations/pakistan   \n",
      "\n",
      "                                 description_stemmed  \\\n",
      "0  pakistan is one of asia most afford destin . w...   \n",
      "1  ptdc is own by the govern of pakistan 99.75 sh...   \n",
      "2  entri , exit and visa requir obtain your visa ...   \n",
      "3  australian govern travel advic for pakistan . ...   \n",
      "4  travel advic and advisori from the govern of c...   \n",
      "\n",
      "                              description_lemmatized  \n",
      "0  pakistan is one of asia most affordable destin...  \n",
      "1  ptdc is owned by the government of pakistan 99...  \n",
      "2  entry , exit and visa requirement obtain your ...  \n",
      "3  australian government travel advice for pakist...  \n",
      "4  travel advice and advisory from the government...  \n"
     ]
    }
   ],
   "source": [
    "stemmer = PorterStemmer()\n",
    "lemmatizer = WordNetLemmatizer()\n",
    "\n",
    "def stem_text(text):\n",
    "    tokens = word_tokenize(text)\n",
    "    stemmed_tokens = [stemmer.stem(token) for token in tokens]\n",
    "    return ' '.join(stemmed_tokens)\n",
    "\n",
    "def lemmatize_text(text):\n",
    "    tokens = word_tokenize(text)\n",
    "    lemmatized_tokens = [lemmatizer.lemmatize(token) for token in tokens]\n",
    "    return ' '.join(lemmatized_tokens)\n",
    "\n",
    "df['description_stemmed'] = df['description'].apply(stem_text)\n",
    "df['description_lemmatized'] = df['description'].apply(lemmatize_text)\n",
    "\n",
    "\n",
    "print(df.head())"
   ],
   "metadata": {
    "collapsed": false,
    "ExecuteTime": {
     "end_time": "2024-02-29T15:32:32.705337100Z",
     "start_time": "2024-02-29T15:32:32.482528900Z"
    }
   },
   "id": "879390e3f15bae36",
   "execution_count": 14
  },
  {
   "cell_type": "code",
   "outputs": [
    {
     "name": "stdout",
     "output_type": "stream",
     "text": [
      "                                               title  \\\n",
      "0               pakistan travel  lonely planet  asia   \n",
      "1           pakistan tourism development corporation   \n",
      "2          pakistan international travel information   \n",
      "3      pakistan travel advice  safety  smartraveller   \n",
      "4  travel advice and advisories for pakistan  tra...   \n",
      "\n",
      "                                         description  \\\n",
      "0  pakistan is one of asias most affordable desti...   \n",
      "1  ptdc is owned by the government of pakistan 99...   \n",
      "2  entry, exit and visa requirements  obtain your...   \n",
      "3  australian government travel advice for pakist...   \n",
      "4  travel advice and advisories from the governme...   \n",
      "\n",
      "                       time_ago  \\\n",
      "0            Time not specified   \n",
      "1               Careers in PTDC   \n",
      "2  Dual Nationals: Be aware ...   \n",
      "3            Time not specified   \n",
      "4            Time not specified   \n",
      "\n",
      "                                                link  \\\n",
      "0              https://www.lonelyplanet.com/pakistan   \n",
      "1                            https://tourism.gov.pk/   \n",
      "2  https://travel.state.gov/content/travel/en/int...   \n",
      "3  https://www.smartraveller.gov.au/destinations/...   \n",
      "4         https://travel.gc.ca/destinations/pakistan   \n",
      "\n",
      "                                 description_stemmed  \\\n",
      "0  pakistan is one of asia most afford destin . w...   \n",
      "1  ptdc is own by the govern of pakistan 99.75 sh...   \n",
      "2  entri , exit and visa requir obtain your visa ...   \n",
      "3  australian govern travel advic for pakistan . ...   \n",
      "4  travel advic and advisori from the govern of c...   \n",
      "\n",
      "                              description_lemmatized  \\\n",
      "0  pakistan is one of asia most affordable destin...   \n",
      "1  ptdc is owned by the government of pakistan 99...   \n",
      "2  entry , exit and visa requirement obtain your ...   \n",
      "3  australian government travel advice for pakist...   \n",
      "4  travel advice and advisory from the government...   \n",
      "\n",
      "                            description_no_stopwords  \\\n",
      "0  pakistan one asias affordable destinations . b...   \n",
      "1  ptdc owned government pakistan 99.75 share . p...   \n",
      "2  entry , exit visa requirements obtain visa pak...   \n",
      "3  australian government travel advice pakistan ....   \n",
      "4  travel advice advisories government canada pak...   \n",
      "\n",
      "                               title_no_stopwords  \n",
      "0              pakistan travel lonely planet asia  \n",
      "1        pakistan tourism development corporation  \n",
      "2       pakistan international travel information  \n",
      "3     pakistan travel advice safety smartraveller  \n",
      "4  travel advice advisories pakistan travel.gc.ca  \n"
     ]
    }
   ],
   "source": [
    "stop_words = set(stopwords.words('english'))\n",
    "def remove_stop_words(text):\n",
    "    tokens = word_tokenize(text)\n",
    "    filtered_tokens = [token for token in tokens if token.lower() not in stop_words]\n",
    "    return ' '.join(filtered_tokens)\n",
    "\n",
    "df['title_no_stopwords'] = df['title'].apply(remove_stop_words)\n",
    "df['description_no_stopwords'] = df['description'].apply(remove_stop_words)\n",
    "\n",
    "print(df.head())"
   ],
   "metadata": {
    "collapsed": false,
    "ExecuteTime": {
     "end_time": "2024-02-29T15:38:00.321814700Z",
     "start_time": "2024-02-29T15:38:00.166881400Z"
    }
   },
   "id": "70159ccb4e8fa599",
   "execution_count": 18
  },
  {
   "cell_type": "code",
   "outputs": [
    {
     "name": "stdout",
     "output_type": "stream",
     "text": [
      "                                                 title  \\\n",
      "0                 pakistan travel  lonely planet  asia   \n",
      "1             pakistan tourism development corporation   \n",
      "2            pakistan international travel information   \n",
      "3        pakistan travel advice  safety  smartraveller   \n",
      "4    travel advice and advisories for pakistan  tra...   \n",
      "..                                                 ...   \n",
      "306  travel to pakistan updated travel advisory l u...   \n",
      "307  female travelers visit pakistan for the first ...   \n",
      "308  people are deprived of affordable travel facil...   \n",
      "309     pakistan entry  exit new travel rules  youtube   \n",
      "310                                  pakistan  youtube   \n",
      "\n",
      "                                           description  \\\n",
      "0    pakistan is one of asias most affordable desti...   \n",
      "1    ptdc is owned by the government of pakistan 99...   \n",
      "2    entry, exit and visa requirements  obtain your...   \n",
      "3    australian government travel advice for pakist...   \n",
      "4    travel advice and advisories from the governme...   \n",
      "..                                                 ...   \n",
      "306  13jul2021  travel to pakistan updated travel a...   \n",
      "307                                          19aug2020   \n",
      "308                                          02dec2023   \n",
      "309  20aug2022  pakistan entry  exit new travel rul...   \n",
      "310  4 days ago  your browser cant play this video....   \n",
      "\n",
      "                                              time_ago  \\\n",
      "0                                   Time not specified   \n",
      "1                                      Careers in PTDC   \n",
      "2                         Dual Nationals: Be aware ...   \n",
      "3                                   Time not specified   \n",
      "4                                   Time not specified   \n",
      "..                                                 ...   \n",
      "306             2 ...Duration: 8:12Posted: 13-Jul-2021   \n",
      "307  Who says women can't travel to Pakistan? Here'...   \n",
      "308  People Are Deprived of Affordable Travel Facil...   \n",
      "309  1 year ago ...more. ANEES KASHIF BHATTI ...Dur...   \n",
      "310       16 hours ...Duration: 0:03Posted: 4 days ago   \n",
      "\n",
      "                                                  link  \\\n",
      "0                https://www.lonelyplanet.com/pakistan   \n",
      "1                              https://tourism.gov.pk/   \n",
      "2    https://travel.state.gov/content/travel/en/int...   \n",
      "3    https://www.smartraveller.gov.au/destinations/...   \n",
      "4           https://travel.gc.ca/destinations/pakistan   \n",
      "..                                                 ...   \n",
      "306    https://www.youtube.com/watch%3Fv%3DozQArjJ-F6U   \n",
      "307    https://www.youtube.com/watch%3Fv%3D8LMHXDFbHJg   \n",
      "308    https://www.youtube.com/watch%3Fv%3Dlue-yNEVG_Y   \n",
      "309    https://www.youtube.com/watch%3Fv%3DJM1iEkeGFus   \n",
      "310    https://www.youtube.com/watch%3Fv%3DiOnLB3t0dY8   \n",
      "\n",
      "                                   description_stemmed  \\\n",
      "0    pakistan is one of asia most afford destin . w...   \n",
      "1    ptdc is own by the govern of pakistan 99.75 sh...   \n",
      "2    entri , exit and visa requir obtain your visa ...   \n",
      "3    australian govern travel advic for pakistan . ...   \n",
      "4    travel advic and advisori from the govern of c...   \n",
      "..                                                 ...   \n",
      "306  13jul2021 travel to pakistan updat travel advi...   \n",
      "307                                          19aug2020   \n",
      "308                                          02dec2023   \n",
      "309  20aug2022 pakistan entri exit new travel rule ...   \n",
      "310  4 day ago your browser cant play thi video . l...   \n",
      "\n",
      "                                description_lemmatized  \\\n",
      "0    pakistan is one of asia most affordable destin...   \n",
      "1    ptdc is owned by the government of pakistan 99...   \n",
      "2    entry , exit and visa requirement obtain your ...   \n",
      "3    australian government travel advice for pakist...   \n",
      "4    travel advice and advisory from the government...   \n",
      "..                                                 ...   \n",
      "306  13jul2021 travel to pakistan updated travel ad...   \n",
      "307                                          19aug2020   \n",
      "308                                          02dec2023   \n",
      "309  20aug2022 pakistan entry exit new travel rule ...   \n",
      "310  4 day ago your browser cant play this video . ...   \n",
      "\n",
      "                              description_no_stopwords  \\\n",
      "0    pakistan one asias affordable destinations . b...   \n",
      "1    ptdc owned government pakistan 99.75 share . p...   \n",
      "2    entry , exit visa requirements obtain visa pak...   \n",
      "3    australian government travel advice pakistan ....   \n",
      "4    travel advice advisories government canada pak...   \n",
      "..                                                 ...   \n",
      "306  13jul2021 travel pakistan updated travel advis...   \n",
      "307                                          19aug2020   \n",
      "308                                          02dec2023   \n",
      "309  20aug2022 pakistan entry exit new travel rules...   \n",
      "310  4 days ago browser cant play video . learn ope...   \n",
      "\n",
      "                                    title_no_stopwords  \\\n",
      "0                   pakistan travel lonely planet asia   \n",
      "1             pakistan tourism development corporation   \n",
      "2            pakistan international travel information   \n",
      "3          pakistan travel advice safety smartraveller   \n",
      "4       travel advice advisories pakistan travel.gc.ca   \n",
      "..                                                 ...   \n",
      "306  travel pakistan updated travel advisory l upda...   \n",
      "307  female travelers visit pakistan first time you...   \n",
      "308  people deprived affordable travel facility pak...   \n",
      "309       pakistan entry exit new travel rules youtube   \n",
      "310                                   pakistan youtube   \n",
      "\n",
      "                                          title_tokens  \\\n",
      "0             [pakistan, travel, lonely, planet, asia]   \n",
      "1        [pakistan, tourism, development, corporation]   \n",
      "2       [pakistan, international, travel, information]   \n",
      "3    [pakistan, travel, advice, safety, smartraveller]   \n",
      "4    [travel, advice, advisories, pakistan, travel....   \n",
      "..                                                 ...   \n",
      "306  [travel, pakistan, updated, travel, advisory, ...   \n",
      "307  [female, travelers, visit, pakistan, first, ti...   \n",
      "308  [people, deprived, affordable, travel, facilit...   \n",
      "309  [pakistan, entry, exit, new, travel, rules, yo...   \n",
      "310                                [pakistan, youtube]   \n",
      "\n",
      "                                    description_tokens  \\\n",
      "0    [pakistan, one, asias, affordable, destination...   \n",
      "1    [ptdc, owned, government, pakistan, 99.75, sha...   \n",
      "2    [entry, ,, exit, visa, requirements, obtain, v...   \n",
      "3    [australian, government, travel, advice, pakis...   \n",
      "4    [travel, advice, advisories, government, canad...   \n",
      "..                                                 ...   \n",
      "306  [13jul2021, travel, pakistan, updated, travel,...   \n",
      "307                                        [19aug2020]   \n",
      "308                                        [02dec2023]   \n",
      "309  [20aug2022, pakistan, entry, exit, new, travel...   \n",
      "310  [4, days, ago, browser, cant, play, video, ., ...   \n",
      "\n",
      "                                        title_unigrams  \\\n",
      "0    [(pakistan,), (travel,), (lonely,), (planet,),...   \n",
      "1    [(pakistan,), (tourism,), (development,), (cor...   \n",
      "2    [(pakistan,), (international,), (travel,), (in...   \n",
      "3    [(pakistan,), (travel,), (advice,), (safety,),...   \n",
      "4    [(travel,), (advice,), (advisories,), (pakista...   \n",
      "..                                                 ...   \n",
      "306  [(travel,), (pakistan,), (updated,), (travel,)...   \n",
      "307  [(female,), (travelers,), (visit,), (pakistan,...   \n",
      "308  [(people,), (deprived,), (affordable,), (trave...   \n",
      "309  [(pakistan,), (entry,), (exit,), (new,), (trav...   \n",
      "310                          [(pakistan,), (youtube,)]   \n",
      "\n",
      "                                         title_bigrams  \\\n",
      "0    [(pakistan, travel), (travel, lonely), (lonely...   \n",
      "1    [(pakistan, tourism), (tourism, development), ...   \n",
      "2    [(pakistan, international), (international, tr...   \n",
      "3    [(pakistan, travel), (travel, advice), (advice...   \n",
      "4    [(travel, advice), (advice, advisories), (advi...   \n",
      "..                                                 ...   \n",
      "306  [(travel, pakistan), (pakistan, updated), (upd...   \n",
      "307  [(female, travelers), (travelers, visit), (vis...   \n",
      "308  [(people, deprived), (deprived, affordable), (...   \n",
      "309  [(pakistan, entry), (entry, exit), (exit, new)...   \n",
      "310                              [(pakistan, youtube)]   \n",
      "\n",
      "                                        title_trigrams  \\\n",
      "0    [(pakistan, travel, lonely), (travel, lonely, ...   \n",
      "1    [(pakistan, tourism, development), (tourism, d...   \n",
      "2    [(pakistan, international, travel), (internati...   \n",
      "3    [(pakistan, travel, advice), (travel, advice, ...   \n",
      "4    [(travel, advice, advisories), (advice, adviso...   \n",
      "..                                                 ...   \n",
      "306  [(travel, pakistan, updated), (pakistan, updat...   \n",
      "307  [(female, travelers, visit), (travelers, visit...   \n",
      "308  [(people, deprived, affordable), (deprived, af...   \n",
      "309  [(pakistan, entry, exit), (entry, exit, new), ...   \n",
      "310                                                 []   \n",
      "\n",
      "                                  description_unigrams  \\\n",
      "0    [(pakistan,), (one,), (asias,), (affordable,),...   \n",
      "1    [(ptdc,), (owned,), (government,), (pakistan,)...   \n",
      "2    [(entry,), (,,), (exit,), (visa,), (requiremen...   \n",
      "3    [(australian,), (government,), (travel,), (adv...   \n",
      "4    [(travel,), (advice,), (advisories,), (governm...   \n",
      "..                                                 ...   \n",
      "306  [(13jul2021,), (travel,), (pakistan,), (update...   \n",
      "307                                     [(19aug2020,)]   \n",
      "308                                     [(02dec2023,)]   \n",
      "309  [(20aug2022,), (pakistan,), (entry,), (exit,),...   \n",
      "310  [(4,), (days,), (ago,), (browser,), (cant,), (...   \n",
      "\n",
      "                                   description_bigrams  \\\n",
      "0    [(pakistan, one), (one, asias), (asias, afford...   \n",
      "1    [(ptdc, owned), (owned, government), (governme...   \n",
      "2    [(entry, ,), (,, exit), (exit, visa), (visa, r...   \n",
      "3    [(australian, government), (government, travel...   \n",
      "4    [(travel, advice), (advice, advisories), (advi...   \n",
      "..                                                 ...   \n",
      "306  [(13jul2021, travel), (travel, pakistan), (pak...   \n",
      "307                                                 []   \n",
      "308                                                 []   \n",
      "309  [(20aug2022, pakistan), (pakistan, entry), (en...   \n",
      "310  [(4, days), (days, ago), (ago, browser), (brow...   \n",
      "\n",
      "                                  description_trigrams  \n",
      "0    [(pakistan, one, asias), (one, asias, affordab...  \n",
      "1    [(ptdc, owned, government), (owned, government...  \n",
      "2    [(entry, ,, exit), (,, exit, visa), (exit, vis...  \n",
      "3    [(australian, government, travel), (government...  \n",
      "4    [(travel, advice, advisories), (advice, adviso...  \n",
      "..                                                 ...  \n",
      "306  [(13jul2021, travel, pakistan), (travel, pakis...  \n",
      "307                                                 []  \n",
      "308                                                 []  \n",
      "309  [(20aug2022, pakistan, entry), (pakistan, entr...  \n",
      "310  [(4, days, ago), (days, ago, browser), (ago, b...  \n",
      "\n",
      "[311 rows x 16 columns]\n"
     ]
    }
   ],
   "source": [
    "from nltk.collocations import BigramCollocationFinder, TrigramCollocationFinder\n",
    "#Tokenizing\n",
    "df['title_tokens'] = df['title_no_stopwords'].apply(word_tokenize)\n",
    "df['description_tokens'] = df['description_no_stopwords'].apply(word_tokenize)\n",
    "\n",
    "def extract_ngrams(tokens, n):\n",
    "    ngrams = []\n",
    "    for i in range(len(tokens) - n + 1):\n",
    "        ngrams.append(tuple(tokens[i:i+n]))\n",
    "    return ngrams\n",
    "\n",
    "\n",
    "df['title_unigrams'] = df['title_tokens'].apply(lambda x: extract_ngrams(x, 1)) #unigram\n",
    "df['title_bigrams'] = df['title_tokens'].apply(lambda x: extract_ngrams(x, 2)) #bigram\n",
    "df['title_trigrams'] = df['title_tokens'].apply(lambda x: extract_ngrams(x, 3)) #trigram\n",
    "\n",
    "df['description_unigrams'] = df['description_tokens'].apply(lambda x: extract_ngrams(x, 1))\n",
    "df['description_bigrams'] = df['description_tokens'].apply(lambda x: extract_ngrams(x, 2))\n",
    "df['description_trigrams'] = df['description_tokens'].apply(lambda x: extract_ngrams(x, 3))"
   ],
   "metadata": {
    "collapsed": false,
    "ExecuteTime": {
     "end_time": "2024-02-29T15:38:23.626079100Z",
     "start_time": "2024-02-29T15:38:23.415310100Z"
    }
   },
   "id": "560e009cc91afc5",
   "execution_count": 21
  },
  {
   "cell_type": "code",
   "outputs": [
    {
     "name": "stdout",
     "output_type": "stream",
     "text": [
      "0    [(pakistan,), (travel,), (lonely,), (planet,),...\n",
      "Name: title_unigrams, dtype: object\n",
      "0    [(pakistan,), (one,), (asias,), (affordable,),...\n",
      "Name: description_unigrams, dtype: object\n"
     ]
    }
   ],
   "source": [
    "print(df['title_unigrams'].head(1))\n",
    "print(df['description_unigrams'].head(1))"
   ],
   "metadata": {
    "collapsed": false,
    "ExecuteTime": {
     "end_time": "2024-02-29T15:40:57.894572400Z",
     "start_time": "2024-02-29T15:40:57.853451500Z"
    }
   },
   "id": "bfd0dbbb6af2e695",
   "execution_count": 27
  },
  {
   "cell_type": "code",
   "outputs": [
    {
     "name": "stdout",
     "output_type": "stream",
     "text": [
      "0    [(pakistan, travel), (travel, lonely), (lonely...\n",
      "Name: title_bigrams, dtype: object\n",
      "0    [(pakistan, one), (one, asias), (asias, afford...\n",
      "Name: description_bigrams, dtype: object\n"
     ]
    }
   ],
   "source": [
    "print(df['title_bigrams'].head(1))\n",
    "print(df['description_bigrams'].head(1))"
   ],
   "metadata": {
    "collapsed": false,
    "ExecuteTime": {
     "end_time": "2024-02-29T15:41:08.926262500Z",
     "start_time": "2024-02-29T15:41:08.896200100Z"
    }
   },
   "id": "eab50aa14f76026",
   "execution_count": 28
  },
  {
   "cell_type": "code",
   "outputs": [
    {
     "name": "stdout",
     "output_type": "stream",
     "text": [
      "0    [(pakistan, travel, lonely), (travel, lonely, ...\n",
      "Name: title_trigrams, dtype: object\n",
      "0    [(pakistan, one, asias), (one, asias, affordab...\n",
      "Name: description_trigrams, dtype: object\n"
     ]
    }
   ],
   "source": [
    "print(df['title_trigrams'].head(1))\n",
    "print(df['description_trigrams'].head(1))"
   ],
   "metadata": {
    "collapsed": false,
    "ExecuteTime": {
     "end_time": "2024-02-29T15:41:09.623835300Z",
     "start_time": "2024-02-29T15:41:09.615566800Z"
    }
   },
   "id": "ae71189e0b601f26",
   "execution_count": 29
  },
  {
   "cell_type": "code",
   "outputs": [],
   "source": [
    "from collections import Counter\n",
    "\n",
    "def calculate_ngram_frequency(ngram_series):\n",
    "    all_ngrams = [ngram for sublist in ngram_series for ngram in sublist]\n",
    "    frequency_counter = Counter(all_ngrams)\n",
    "    return frequency_counter\n",
    "\n",
    "title_unigram_frequency = calculate_ngram_frequency(df['title_unigrams'])\n",
    "title_bigram_frequency = calculate_ngram_frequency(df['title_bigrams'])\n",
    "title_trigram_frequency = calculate_ngram_frequency(df['title_trigrams'])\n",
    "\n",
    "description_unigram_frequency = calculate_ngram_frequency(df['description_unigrams'])\n",
    "description_bigram_frequency = calculate_ngram_frequency(df['description_bigrams'])\n",
    "description_trigram_frequency = calculate_ngram_frequency(df['description_trigrams'])"
   ],
   "metadata": {
    "collapsed": false,
    "ExecuteTime": {
     "end_time": "2024-02-29T15:42:42.606852800Z",
     "start_time": "2024-02-29T15:42:42.599158300Z"
    }
   },
   "id": "16ca66c0dce58260",
   "execution_count": 31
  },
  {
   "cell_type": "code",
   "outputs": [
    {
     "name": "stdout",
     "output_type": "stream",
     "text": [
      "Top 10 Most Common Unigrams in Titles:\n",
      "[(('pakistan',), 245), (('travel',), 134), (('youtube',), 37), (('...',), 32), ((',',), 32), (('visa',), 29), (('guide',), 25), (('tourism',), 23), (('2024',), 17), (('tourist',), 13)]\n",
      "\n",
      "Top 10 Most Common Bigrams in Titles:\n",
      "[(('pakistan', 'travel'), 31), (('travel', 'guide'), 20), (('travel', 'pakistan'), 12), (('pakistan', 'youtube'), 12), (('travel', 'advice'), 8), (('traveling', 'pakistan'), 8), (('pakistan', 'tourism'), 7), (('travel', 'advisory'), 6), (('visit', 'pakistan'), 6), (('embassy', 'pakistan'), 6)]\n",
      "\n",
      "Top 10 Most Common Trigrams in Titles:\n",
      "[(('pakistan', 'travel', 'guide'), 12), (('know', 'traveling', 'pakistan'), 5), (('pakistan', 'travel', 'advice'), 4), (('department', 'foreign', 'affairs'), 4), (('need', 'know', 'traveling'), 4), (('health', 'alert', 'u.s.'), 4), (('alert', 'u.s.', 'mission'), 4), (('u.s.', 'mission', 'pakistan'), 4), (('mission', 'pakistan', 'january'), 4), (('pakistan', 'january', '8'), 4)]\n",
      "\n",
      "Top 10 Most Common Unigrams in Descriptions:\n",
      "[(('.',), 245), (('pakistan',), 167), ((',',), 154), (('...',), 152), (('travel',), 131), (('visa',), 37), (('tour',), 25), (('tourism',), 23), (('passport',), 20), (('pakistani',), 19)]\n",
      "\n",
      "Top 10 Most Common Bigrams in Descriptions:\n",
      "[(('pakistan', '.'), 41), (('travel', 'pakistan'), 12), (('travel', '.'), 10), (('pakistan', 'travel'), 10), (('.', 'pakistan'), 10), (('...', 'travel'), 10), (('pakistan', ','), 10), (('.', '...'), 9), (('days', 'ago'), 9), (('travel', 'advice'), 8)]\n",
      "\n",
      "Top 10 Most Common Trigrams in Descriptions:\n",
      "[(('travel', 'pakistan', '.'), 6), (('pakistani', 'passport', 'holder'), 4), (('passport', 'holder', ','), 4), (('درج', 'کریں', '.'), 4), (('2', 'days', 'ago'), 4), (('.', 'pakistan', 'travel'), 3), (('pakistan', 'tour', 'packages'), 3), (('.', 'pakistan', '.'), 3), (('passports', 'visas', 'issued'), 3), (('visas', 'issued', 'embassy'), 3)]\n"
     ]
    }
   ],
   "source": [
    "print(\"Top 10 Most Common Unigrams in Titles:\")\n",
    "print(title_unigram_frequency.most_common(10))\n",
    "print(\"\\nTop 10 Most Common Bigrams in Titles:\")\n",
    "print(title_bigram_frequency.most_common(10))\n",
    "print(\"\\nTop 10 Most Common Trigrams in Titles:\")\n",
    "print(title_trigram_frequency.most_common(10))\n",
    "\n",
    "print(\"\\nTop 10 Most Common Unigrams in Descriptions:\")\n",
    "print(description_unigram_frequency.most_common(10))\n",
    "print(\"\\nTop 10 Most Common Bigrams in Descriptions:\")\n",
    "print(description_bigram_frequency.most_common(10))\n",
    "print(\"\\nTop 10 Most Common Trigrams in Descriptions:\")\n",
    "print(description_trigram_frequency.most_common(10))"
   ],
   "metadata": {
    "collapsed": false,
    "ExecuteTime": {
     "end_time": "2024-02-29T15:42:43.268569800Z",
     "start_time": "2024-02-29T15:42:43.214285200Z"
    }
   },
   "id": "94f927dbebdc7016",
   "execution_count": 32
  },
  {
   "cell_type": "code",
   "outputs": [
    {
     "name": "stdout",
     "output_type": "stream",
     "text": [
      "                                         description  \\\n",
      "0  pakistan is one of asias most affordable desti...   \n",
      "1  ptdc is owned by the government of pakistan 99...   \n",
      "2  entry, exit and visa requirements  obtain your...   \n",
      "3  australian government travel advice for pakist...   \n",
      "4  travel advice and advisories from the governme...   \n",
      "\n",
      "                             description_word_tokens  \\\n",
      "0  [pakistan, is, one, of, asias, most, affordabl...   \n",
      "1  [ptdc, is, owned, by, the, government, of, pak...   \n",
      "2  [entry, ,, exit, and, visa, requirements, obta...   \n",
      "3  [australian, government, travel, advice, for, ...   \n",
      "4  [travel, advice, and, advisories, from, the, g...   \n",
      "\n",
      "                         description_sentence_tokens  \n",
      "0  [pakistan is one of asias most affordable dest...  \n",
      "1  [ptdc is owned by the government of pakistan 9...  \n",
      "2  [entry, exit and visa requirements  obtain you...  \n",
      "3  [australian government travel advice for pakis...  \n",
      "4  [travel advice and advisories from the governm...  \n"
     ]
    }
   ],
   "source": [
    "from nltk.tokenize import word_tokenize, sent_tokenize\n",
    "\n",
    "df['description_word_tokens'] = df['description'].apply(word_tokenize)\n",
    "df['description_sentence_tokens'] = df['description'].apply(sent_tokenize)\n",
    "\n",
    "print(df[['description', 'description_word_tokens', 'description_sentence_tokens']].head())"
   ],
   "metadata": {
    "collapsed": false,
    "ExecuteTime": {
     "end_time": "2024-02-29T15:43:45.323471200Z",
     "start_time": "2024-02-29T15:43:45.241807300Z"
    }
   },
   "id": "62b8f4718fd29b7e",
   "execution_count": 33
  },
  {
   "cell_type": "code",
   "outputs": [
    {
     "name": "stderr",
     "output_type": "stream",
     "text": [
      "None of PyTorch, TensorFlow >= 2.0, or Flax have been found. Models won't be available and only tokenizers, configuration and file/data utilities can be used.\n"
     ]
    },
    {
     "data": {
      "text/plain": "tokenizer_config.json:   0%|          | 0.00/48.0 [00:00<?, ?B/s]",
      "application/vnd.jupyter.widget-view+json": {
       "version_major": 2,
       "version_minor": 0,
       "model_id": "3346e411b99f4ce39cf589a107529be9"
      }
     },
     "metadata": {},
     "output_type": "display_data"
    },
    {
     "name": "stderr",
     "output_type": "stream",
     "text": [
      "C:\\Users\\ibzcl\\AppData\\Local\\Programs\\Python\\Python312\\Lib\\site-packages\\huggingface_hub\\file_download.py:149: UserWarning: `huggingface_hub` cache-system uses symlinks by default to efficiently store duplicated files but your machine does not support them in C:\\Users\\ibzcl\\.cache\\huggingface\\hub\\models--bert-base-uncased. Caching files will still work but in a degraded version that might require more space on your disk. This warning can be disabled by setting the `HF_HUB_DISABLE_SYMLINKS_WARNING` environment variable. For more details, see https://huggingface.co/docs/huggingface_hub/how-to-cache#limitations.\n",
      "To support symlinks on Windows, you either need to activate Developer Mode or to run Python as an administrator. In order to see activate developer mode, see this article: https://docs.microsoft.com/en-us/windows/apps/get-started/enable-your-device-for-development\n",
      "  warnings.warn(message)\n"
     ]
    },
    {
     "data": {
      "text/plain": "vocab.txt:   0%|          | 0.00/232k [00:00<?, ?B/s]",
      "application/vnd.jupyter.widget-view+json": {
       "version_major": 2,
       "version_minor": 0,
       "model_id": "eb6cbc39f2944a7fb1a6782b03aebd8e"
      }
     },
     "metadata": {},
     "output_type": "display_data"
    },
    {
     "data": {
      "text/plain": "tokenizer.json:   0%|          | 0.00/466k [00:00<?, ?B/s]",
      "application/vnd.jupyter.widget-view+json": {
       "version_major": 2,
       "version_minor": 0,
       "model_id": "42f73b4509ff484c9619c89e1615c50f"
      }
     },
     "metadata": {},
     "output_type": "display_data"
    },
    {
     "data": {
      "text/plain": "config.json:   0%|          | 0.00/570 [00:00<?, ?B/s]",
      "application/vnd.jupyter.widget-view+json": {
       "version_major": 2,
       "version_minor": 0,
       "model_id": "faf4ddc1d03e4ad695c7dc04dab6592c"
      }
     },
     "metadata": {},
     "output_type": "display_data"
    },
    {
     "name": "stdout",
     "output_type": "stream",
     "text": [
      "                                           description  \\\n",
      "0    pakistan is one of asias most affordable desti...   \n",
      "1    ptdc is owned by the government of pakistan 99...   \n",
      "2    entry, exit and visa requirements  obtain your...   \n",
      "3    australian government travel advice for pakist...   \n",
      "4    travel advice and advisories from the governme...   \n",
      "..                                                 ...   \n",
      "306  13jul2021  travel to pakistan updated travel a...   \n",
      "307                                          19aug2020   \n",
      "308                                          02dec2023   \n",
      "309  20aug2022  pakistan entry  exit new travel rul...   \n",
      "310  4 days ago  your browser cant play this video....   \n",
      "\n",
      "                               description_bert_tokens  \n",
      "0    [pakistan, is, one, of, asia, ##s, most, affor...  \n",
      "1    [pt, ##dc, is, owned, by, the, government, of,...  \n",
      "2    [entry, ,, exit, and, visa, requirements, obta...  \n",
      "3    [australian, government, travel, advice, for, ...  \n",
      "4    [travel, advice, and, advisor, ##ies, from, th...  \n",
      "..                                                 ...  \n",
      "306  [13, ##ju, ##l, ##20, ##21, travel, to, pakist...  \n",
      "307                        [19, ##au, ##g, ##20, ##20]  \n",
      "308                        [02, ##de, ##c, ##20, ##23]  \n",
      "309  [20, ##au, ##g, ##20, ##22, pakistan, entry, e...  \n",
      "310  [4, days, ago, your, browser, can, ##t, play, ...  \n",
      "\n",
      "[311 rows x 2 columns]\n"
     ]
    }
   ],
   "source": [
    "from transformers import BertTokenizer\n",
    "tokenizer = BertTokenizer.from_pretrained('bert-base-uncased')\n",
    "\n",
    "df['description_bert_tokens'] = df['description'].apply(lambda x: tokenizer.tokenize(x))\n",
    "\n",
    "print(df[['description', 'description_bert_tokens']])"
   ],
   "metadata": {
    "collapsed": false,
    "ExecuteTime": {
     "end_time": "2024-02-29T18:07:03.676756Z",
     "start_time": "2024-02-29T18:06:55.021223900Z"
    }
   },
   "id": "e0e9d00bd87569e3",
   "execution_count": 34
  },
  {
   "cell_type": "markdown",
   "source": [
    "### Question 7\n",
    "\n",
    "#### Contextualized Tokenization:\n",
    "##### Explore contextualized tokenization by discussing its significance and demonstrating how\n",
    "##### models like BERT process text differently compared to traditional methods. Does this\n",
    "##### type of tokenization will help you?\n",
    "\n",
    "#### Answer:\n",
    "######  Contextualized tokenization provided by models like BERT can be highly beneficial. It allows you to encode the descriptions in a more sophisticated and context-aware manner, which can lead to better performance when analyzing or processing the text data. By leveraging contextualized tokenization, you can extract richer features from the text, enabling more accurate and robust analysis or downstream tasks.\n",
    "\n",
    "###### Traditional tokenization methods, such as splitting text based on whitespace or punctuation, tokenize each word or subword independently without considering its context. For example, the word \"bank\" would be tokenized as-is, without differentiating between its meanings in different contexts (\"financial institution\" vs. \"river bank\").\n",
    "\n",
    "###### In contrast, models like BERT tokenize words or subwords based on their context. For example, in the sentence \"He deposited money in the bank,\" BERT may tokenize \"bank\" differently compared to the sentence \"He sat by the river bank.\" This contextualized tokenization allows BERT to capture the nuanced meaning of each token based on its surrounding context, leading to more accurate representations of text."
   ],
   "metadata": {
    "collapsed": false
   },
   "id": "1e20d803d9dce355"
  },
  {
   "cell_type": "markdown",
   "source": [],
   "metadata": {
    "collapsed": false
   },
   "id": "4c96a29807f52bb5"
  }
 ],
 "metadata": {
  "kernelspec": {
   "display_name": "Python 3",
   "language": "python",
   "name": "python3"
  },
  "language_info": {
   "codemirror_mode": {
    "name": "ipython",
    "version": 2
   },
   "file_extension": ".py",
   "mimetype": "text/x-python",
   "name": "python",
   "nbconvert_exporter": "python",
   "pygments_lexer": "ipython2",
   "version": "2.7.6"
  }
 },
 "nbformat": 4,
 "nbformat_minor": 5
}
