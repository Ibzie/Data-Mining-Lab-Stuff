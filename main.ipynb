{
 "cells": [
  {
   "cell_type": "code",
   "execution_count": 5,
   "id": "initial_id",
   "metadata": {
    "collapsed": true,
    "ExecuteTime": {
     "end_time": "2024-01-31T10:17:55.645774400Z",
     "start_time": "2024-01-31T10:17:55.528837300Z"
    }
   },
   "outputs": [],
   "source": [
    "from bs4 import BeautifulSoup\n",
    "import requests"
   ]
  },
  {
   "cell_type": "code",
   "outputs": [],
   "source": [
    "with open('Test.html' ,'r' ,encoding=\"utf-8\") as file:\n",
    "    html_content = file.read()"
   ],
   "metadata": {
    "collapsed": false,
    "ExecuteTime": {
     "end_time": "2024-01-31T10:21:26.265607900Z",
     "start_time": "2024-01-31T10:21:26.257819700Z"
    }
   },
   "id": "917904b18f0568e4",
   "execution_count": 8
  },
  {
   "cell_type": "code",
   "outputs": [],
   "source": [
    "soup = BeautifulSoup(html_content,'html.parser')"
   ],
   "metadata": {
    "collapsed": false,
    "ExecuteTime": {
     "end_time": "2024-01-31T10:21:49.553432Z",
     "start_time": "2024-01-31T10:21:49.538948600Z"
    }
   },
   "id": "5cd211d902671e1e",
   "execution_count": 9
  },
  {
   "cell_type": "code",
   "outputs": [
    {
     "data": {
      "text/plain": "<title>BeautifulSoup Test Page</title>"
     },
     "execution_count": 11,
     "metadata": {},
     "output_type": "execute_result"
    }
   ],
   "source": [
    "title=soup.title\n",
    "title"
   ],
   "metadata": {
    "collapsed": false,
    "ExecuteTime": {
     "end_time": "2024-01-31T10:22:14.061545200Z",
     "start_time": "2024-01-31T10:22:14.022920500Z"
    }
   },
   "id": "1517c164949454dd",
   "execution_count": 11
  },
  {
   "cell_type": "code",
   "outputs": [
    {
     "data": {
      "text/plain": "<!DOCTYPE html>\n\n<html lang=\"en\">\n<head>\n<meta charset=\"utf-8\"/>\n<meta content=\"IE=edge\" http-equiv=\"X-UA-Compatible\"/>\n<meta content=\"width=device-width, initial-scale=1.0\" name=\"viewport\"/>\n<title>BeautifulSoup Test Page</title>\n</head>\n<body>\n<header>\n<h1>Welcome to the BeautifulSoup Test Page</h1>\n<nav>\n<ul>\n<li><a class=\"nav-link\" href=\"#section1\">Section 1</a></li>\n<li><a class=\"nav-link\" href=\"#section2\">Section 2</a></li>\n<li><a class=\"nav-link\" href=\"#section3\">Section 3</a></li>\n</ul>\n</nav>\n</header>\n<section class=\"content-section\" id=\"section1\">\n<h2>Section 1: Basic Tags</h2>\n<p>This section contains basic HTML tags.</p>\n<a class=\"external-link\" href=\"https://example.com\">External Link</a>\n</section>\n<section class=\"content-section\" id=\"section2\">\n<h2>Section 2: Siblings and Parents</h2>\n<div class=\"container\">\n<p class=\"sibling1\">This is the first sibling paragraph.</p>\n<p class=\"sibling2\">This is the second sibling paragraph with <a class=\"internal-link\" href=\"#\">an internal link</a>.</p>\n</div>\n</section>\n<section class=\"content-section\" id=\"section3\">\n<h2>Section 3: Attributes and Text</h2>\n<p title=\"Hover Text\">This paragraph has a title attribute.</p>\n<a class=\"another-external-link\" href=\"http://example.com\">Another External Link</a>\n</section>\n<footer>\n<p>Footer Content</p>\n</footer>\n</body>\n</html>"
     },
     "execution_count": 17,
     "metadata": {},
     "output_type": "execute_result"
    }
   ],
   "source": [
    "all = soup\n",
    "all"
   ],
   "metadata": {
    "collapsed": false,
    "ExecuteTime": {
     "end_time": "2024-01-31T10:25:20.970961600Z",
     "start_time": "2024-01-31T10:25:20.959396700Z"
    }
   },
   "id": "f9a372f6c8cdccc8",
   "execution_count": 17
  },
  {
   "cell_type": "code",
   "outputs": [
    {
     "data": {
      "text/plain": "<body>\n<header>\n<h1>Welcome to the BeautifulSoup Test Page</h1>\n<nav>\n<ul>\n<li><a class=\"nav-link\" href=\"#section1\">Section 1</a></li>\n<li><a class=\"nav-link\" href=\"#section2\">Section 2</a></li>\n<li><a class=\"nav-link\" href=\"#section3\">Section 3</a></li>\n</ul>\n</nav>\n</header>\n<section class=\"content-section\" id=\"section1\">\n<h2>Section 1: Basic Tags</h2>\n<p>This section contains basic HTML tags.</p>\n<a class=\"external-link\" href=\"https://example.com\">External Link</a>\n</section>\n<section class=\"content-section\" id=\"section2\">\n<h2>Section 2: Siblings and Parents</h2>\n<div class=\"container\">\n<p class=\"sibling1\">This is the first sibling paragraph.</p>\n<p class=\"sibling2\">This is the second sibling paragraph with <a class=\"internal-link\" href=\"#\">an internal link</a>.</p>\n</div>\n</section>\n<section class=\"content-section\" id=\"section3\">\n<h2>Section 3: Attributes and Text</h2>\n<p title=\"Hover Text\">This paragraph has a title attribute.</p>\n<a class=\"another-external-link\" href=\"http://example.com\">Another External Link</a>\n</section>\n<footer>\n<p>Footer Content</p>\n</footer>\n</body>"
     },
     "execution_count": 18,
     "metadata": {},
     "output_type": "execute_result"
    }
   ],
   "source": [
    "body = soup.body\n",
    "body"
   ],
   "metadata": {
    "collapsed": false,
    "ExecuteTime": {
     "end_time": "2024-01-31T10:25:35.650369500Z",
     "start_time": "2024-01-31T10:25:35.620674800Z"
    }
   },
   "id": "b755e6a6024ff175",
   "execution_count": 18
  },
  {
   "cell_type": "code",
   "outputs": [
    {
     "data": {
      "text/plain": "<header>\n<h1>Welcome to the BeautifulSoup Test Page</h1>\n<nav>\n<ul>\n<li><a class=\"nav-link\" href=\"#section1\">Section 1</a></li>\n<li><a class=\"nav-link\" href=\"#section2\">Section 2</a></li>\n<li><a class=\"nav-link\" href=\"#section3\">Section 3</a></li>\n</ul>\n</nav>\n</header>"
     },
     "execution_count": 19,
     "metadata": {},
     "output_type": "execute_result"
    }
   ],
   "source": [
    "header = soup.header\n",
    "header"
   ],
   "metadata": {
    "collapsed": false,
    "ExecuteTime": {
     "end_time": "2024-01-31T10:30:05.894056400Z",
     "start_time": "2024-01-31T10:30:05.879117300Z"
    }
   },
   "id": "b30fea1bdece4a35",
   "execution_count": 19
  },
  {
   "cell_type": "code",
   "outputs": [
    {
     "data": {
      "text/plain": "[<a class=\"nav-link\" href=\"#section1\">Section 1</a>,\n <a class=\"nav-link\" href=\"#section2\">Section 2</a>,\n <a class=\"nav-link\" href=\"#section3\">Section 3</a>,\n <a class=\"external-link\" href=\"https://example.com\">External Link</a>,\n <a class=\"internal-link\" href=\"#\">an internal link</a>,\n <a class=\"another-external-link\" href=\"http://example.com\">Another External Link</a>]"
     },
     "execution_count": 20,
     "metadata": {},
     "output_type": "execute_result"
    }
   ],
   "source": [
    "soup.find_all(href=True)"
   ],
   "metadata": {
    "collapsed": false,
    "ExecuteTime": {
     "end_time": "2024-01-31T10:34:20.194259800Z",
     "start_time": "2024-01-31T10:34:20.131146700Z"
    }
   },
   "id": "8b2c058087e34d42",
   "execution_count": 20
  },
  {
   "cell_type": "code",
   "outputs": [
    {
     "data": {
      "text/plain": "[]"
     },
     "execution_count": 23,
     "metadata": {},
     "output_type": "execute_result"
    }
   ],
   "source": [
    "soup.find_all('href')"
   ],
   "metadata": {
    "collapsed": false,
    "ExecuteTime": {
     "end_time": "2024-01-31T10:35:46.188298900Z",
     "start_time": "2024-01-31T10:35:46.148916900Z"
    }
   },
   "id": "2044d05a2d6d5371",
   "execution_count": 23
  },
  {
   "cell_type": "code",
   "outputs": [],
   "source": [],
   "metadata": {
    "collapsed": false
   },
   "id": "68fb19a1b0dbef79"
  }
 ],
 "metadata": {
  "kernelspec": {
   "display_name": "Python 3",
   "language": "python",
   "name": "python3"
  },
  "language_info": {
   "codemirror_mode": {
    "name": "ipython",
    "version": 2
   },
   "file_extension": ".py",
   "mimetype": "text/x-python",
   "name": "python",
   "nbconvert_exporter": "python",
   "pygments_lexer": "ipython2",
   "version": "2.7.6"
  }
 },
 "nbformat": 4,
 "nbformat_minor": 5
}
