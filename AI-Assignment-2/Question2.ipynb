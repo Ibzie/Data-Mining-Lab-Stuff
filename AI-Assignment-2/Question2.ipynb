{
 "cells": [
  {
   "cell_type": "code",
   "execution_count": 2,
   "id": "initial_id",
   "metadata": {
    "collapsed": true,
    "ExecuteTime": {
     "end_time": "2024-04-21T11:14:48.470300100Z",
     "start_time": "2024-04-21T11:14:41.594050400Z"
    }
   },
   "outputs": [],
   "source": [
    "import pandas as pd\n",
    "import numpy as np\n",
    "import random\n",
    "import matplotlib.pyplot as plt\n",
    "import seaborn as sns\n",
    "\n",
    "# Load the data\n",
    "data = pd.read_csv('test_data.csv')"
   ]
  },
  {
   "cell_type": "code",
   "outputs": [
    {
     "name": "stdout",
     "output_type": "stream",
     "text": [
      "First few rows of the dataset:\n",
      "   Day  Sleep Hours  Rank of Food Quality  Working Hours  \\\n",
      "0    1            7                     4              8   \n",
      "1    2            8                     3              9   \n",
      "2    3            6                     2              7   \n",
      "3    4            5                     5             10   \n",
      "4    5            8                     4              8   \n",
      "\n",
      "   Rank of Health Condition  Rank of Mood  Rank of Productivity  \n",
      "0                         3             2                     4  \n",
      "1                         4             1                     5  \n",
      "2                         2             3                     3  \n",
      "3                         1             4                     2  \n",
      "4                         4             2                     4  \n"
     ]
    }
   ],
   "source": [
    "print(\"First few rows of the dataset:\")\n",
    "print(data.head())\n",
    "\n",
    "def standardize(data):\n",
    "    \"\"\"\n",
    "    Standardizes the features in the data by subtracting the mean and dividing by the standard deviation.\n",
    "    \"\"\"\n",
    "    means = np.mean(data, axis=0)\n",
    "    stds = np.std(data, axis=0)\n",
    "    return (data - means) / stds"
   ],
   "metadata": {
    "collapsed": false,
    "ExecuteTime": {
     "end_time": "2024-04-21T11:14:48.494058500Z",
     "start_time": "2024-04-21T11:14:48.472302100Z"
    }
   },
   "id": "b0af8cef161764e5",
   "execution_count": 3
  },
  {
   "cell_type": "code",
   "outputs": [],
   "source": [
    "def model(X, weights, bias):\n",
    "    \"\"\"\n",
    "    Calculates the predicted values for the given data points using the linear regression model.\n",
    "    \"\"\"\n",
    "    predictions = []\n",
    "    for i in range(len(X)):\n",
    "        row_dot_product = 0\n",
    "        for j in range(len(weights)):\n",
    "            row_dot_product += X[i][j] * weights[j]\n",
    "        predictions.append(row_dot_product + bias)\n",
    "    return np.array(predictions)"
   ],
   "metadata": {
    "collapsed": false,
    "ExecuteTime": {
     "end_time": "2024-04-21T11:14:48.552177700Z",
     "start_time": "2024-04-21T11:14:48.492240Z"
    }
   },
   "id": "3d2febe9fde27850",
   "execution_count": 4
  },
  {
   "cell_type": "code",
   "outputs": [],
   "source": [
    "def mean_squared_error(y_true, y_predicted):\n",
    "    \"\"\"\n",
    "    Calculates the mean squared error between the true values and predicted values.\n",
    "    \"\"\"\n",
    "    total_error = 0\n",
    "    for i in range(len(y_true)):\n",
    "        total_error += (y_true[i] - y_predicted[i])**2\n",
    "    return total_error / len(y_true)"
   ],
   "metadata": {
    "collapsed": false,
    "ExecuteTime": {
     "end_time": "2024-04-21T11:14:48.553177Z",
     "start_time": "2024-04-21T11:14:48.499065700Z"
    }
   },
   "id": "be1e3a64c3267e31",
   "execution_count": 5
  },
  {
   "cell_type": "code",
   "outputs": [],
   "source": [
    "def gradient_descent(X, y, learning_rate, epochs):\n",
    "    \"\"\"\n",
    "    Implements the gradient descent algorithm to learn the optimal weights and bias for the model.\n",
    "    \"\"\"\n",
    "    # Standardize the features (optional but recommended)\n",
    "    X = standardize(X)\n",
    "\n",
    "    # Extract number of features and data points\n",
    "    num_features = X.shape[1]\n",
    "    m = np.random.rand(num_features)  # Initialize random weights\n",
    "    c = random.uniform(1, 10)  # Initialize random bias\n",
    "    num_epochs = epochs if epochs else random.randint(100, 1000)  # Random number of epochs\n",
    "\n",
    "    loss_history = []  # Track loss for visualization\n",
    "\n",
    "    for epoch in range(num_epochs):\n",
    "        # Calculate predictions\n",
    "        predictions = model(X, m, c)\n",
    "\n",
    "        # Calculate loss\n",
    "        loss = mean_squared_error(y, predictions)\n",
    "        loss_history.append(loss)\n",
    "\n",
    "        # Calculate gradients (derivatives of loss w.r.t weights and bias)\n",
    "        weights_gradient = np.zeros(num_features)\n",
    "        bias_gradient = 0\n",
    "        for i in range(len(y)):\n",
    "            error = y[i] - predictions[i]\n",
    "            for j in range(num_features):\n",
    "                weights_gradient[j] += -2 * X[i][j] * error\n",
    "            bias_gradient += -2 * error\n",
    "        weights_gradient /= len(y)\n",
    "        bias_gradient /= len(y)\n",
    "\n",
    "        # Update weights and bias\n",
    "        m -= learning_rate * weights_gradient\n",
    "        c -= learning_rate * bias_gradient\n",
    "\n",
    "        # Print loss for monitoring (optional)\n",
    "        if epoch % 100 == 0:\n",
    "            print(f\"Epoch: {epoch}, Loss: {loss:.4f}\")\n",
    "\n",
    "    return m, c, loss_history"
   ],
   "metadata": {
    "collapsed": false,
    "ExecuteTime": {
     "end_time": "2024-04-21T11:14:48.554140700Z",
     "start_time": "2024-04-21T11:14:48.512415400Z"
    }
   },
   "id": "a0bd0ea91a3c2d5d",
   "execution_count": 6
  },
  {
   "cell_type": "code",
   "outputs": [
    {
     "name": "stdout",
     "output_type": "stream",
     "text": [
      "Epoch: 0, Loss: 3.8561\n",
      "Epoch: 100, Loss: 0.2545\n",
      "Epoch: 200, Loss: 0.1949\n",
      "Epoch: 300, Loss: 0.1872\n",
      "Epoch: 400, Loss: 0.1842\n",
      "Epoch: 500, Loss: 0.1830\n",
      "Epoch: 600, Loss: 0.1824\n",
      "Epoch: 700, Loss: 0.1821\n",
      "Epoch: 800, Loss: 0.1820\n",
      "Epoch: 900, Loss: 0.1819\n",
      "Learned weights: [-0.14913869  0.54009265  0.52762698 -0.0330309   0.31835603 -0.17082813]\n",
      "Learned bias: 3.2000000018424695\n"
     ]
    }
   ],
   "source": [
    "X = data.iloc[:, :-1].to_numpy()  # All columns except the last one (Rank of Productivity)\n",
    "y = data.iloc[:, -1].to_numpy()  # Last column (Rank of Productivity)\n",
    "\n",
    "learning_rate = 0.01\n",
    "\n",
    "weights, bias, loss_history = gradient_descent(X.copy(), y.copy(), learning_rate, epochs=None)\n",
    "\n",
    "print(f\"Learned weights: {weights}\")\n",
    "print(f\"Learned bias: {bias}\")"
   ],
   "metadata": {
    "collapsed": false,
    "ExecuteTime": {
     "end_time": "2024-04-21T11:14:48.718294300Z",
     "start_time": "2024-04-21T11:14:48.521140600Z"
    }
   },
   "id": "8ee95067797908b6",
   "execution_count": 7
  },
  {
   "cell_type": "code",
   "outputs": [
    {
     "data": {
      "text/plain": "<Figure size 640x480 with 1 Axes>",
      "image/png": "[encoded data removed]"
     },
     "metadata": {},
     "output_type": "display_data"
    }
   ],
   "source": [
    "# Plot the loss during gradient descent\n",
    "plt.plot(range(len(loss_history)), loss_history)\n",
    "plt.title('Loss vs Epoch')\n",
    "plt.xlabel('Epoch')\n",
    "plt.ylabel('Loss')\n",
    "plt.grid(True)\n",
    "plt.show()"
   ],
   "metadata": {
    "collapsed": false,
    "ExecuteTime": {
     "end_time": "2024-04-21T11:17:33.807433500Z",
     "start_time": "2024-04-21T11:17:33.636819300Z"
    }
   },
   "id": "9aaca51f3290a677",
   "execution_count": 14
  },
  {
   "cell_type": "code",
   "outputs": [
    {
     "name": "stdout",
     "output_type": "stream",
     "text": [
      "New data contains NaNs or infinite values.\n"
     ]
    },
    {
     "name": "stderr",
     "output_type": "stream",
     "text": [
      "C:\\Users\\ibzcl\\AppData\\Local\\Temp\\ipykernel_164\\3774632637.py:10: RuntimeWarning: invalid value encountered in divide\n",
      "  return (data - means) / stds\n"
     ]
    },
    {
     "ename": "ValueError",
     "evalue": "operands could not be broadcast together with shapes (5,) (6,) ",
     "output_type": "error",
     "traceback": [
      "\u001B[1;31m---------------------------------------------------------------------------\u001B[0m",
      "\u001B[1;31mValueError\u001B[0m                                Traceback (most recent call last)",
      "Cell \u001B[1;32mIn[18], line 8\u001B[0m\n\u001B[0;32m      5\u001B[0m     \u001B[38;5;28mprint\u001B[39m(\u001B[38;5;124m\"\u001B[39m\u001B[38;5;124mNew data contains NaNs or infinite values.\u001B[39m\u001B[38;5;124m\"\u001B[39m)\n\u001B[0;32m      7\u001B[0m \u001B[38;5;66;03m# Standardize the new data using the same mean and standard deviation as the training data\u001B[39;00m\n\u001B[1;32m----> 8\u001B[0m new_data_standardized \u001B[38;5;241m=\u001B[39m (\u001B[43mnew_data\u001B[49m\u001B[43m \u001B[49m\u001B[38;5;241;43m-\u001B[39;49m\u001B[43m \u001B[49m\u001B[43mnp\u001B[49m\u001B[38;5;241;43m.\u001B[39;49m\u001B[43mmean\u001B[49m\u001B[43m(\u001B[49m\u001B[43mX\u001B[49m\u001B[43m,\u001B[49m\u001B[43m \u001B[49m\u001B[43maxis\u001B[49m\u001B[38;5;241;43m=\u001B[39;49m\u001B[38;5;241;43m0\u001B[39;49m\u001B[43m)\u001B[49m) \u001B[38;5;241m/\u001B[39m np\u001B[38;5;241m.\u001B[39mstd(X, axis\u001B[38;5;241m=\u001B[39m\u001B[38;5;241m0\u001B[39m)\n\u001B[0;32m     10\u001B[0m \u001B[38;5;66;03m# Check if any of the learned weights or bias are NaN or infinite\u001B[39;00m\n\u001B[0;32m     11\u001B[0m \u001B[38;5;28;01mif\u001B[39;00m np\u001B[38;5;241m.\u001B[39misnan(weights)\u001B[38;5;241m.\u001B[39many() \u001B[38;5;129;01mor\u001B[39;00m np\u001B[38;5;241m.\u001B[39misinf(weights)\u001B[38;5;241m.\u001B[39many() \u001B[38;5;129;01mor\u001B[39;00m np\u001B[38;5;241m.\u001B[39misnan(bias) \u001B[38;5;129;01mor\u001B[39;00m np\u001B[38;5;241m.\u001B[39misinf(bias):\n",
      "\u001B[1;31mValueError\u001B[0m: operands could not be broadcast together with shapes (5,) (6,) "
     ]
    }
   ],
   "source": [
    "new_data = np.array([7, 5, 9, 2, 4])  # Example data\n",
    "new_data_standardized = standardize(new_data.reshape(1, -1))  # Standardize the new data\n",
    "# Check for NaNs or infinite values in the new data\n",
    "if np.isnan(new_data_standardized).any() or np.isinf(new_data_standardized).any():\n",
    "    print(\"New data contains NaNs or infinite values.\")\n",
    "\n",
    "# Standardize the new data using the same mean and standard deviation as the training data\n",
    "new_data_standardized = (new_data - np.mean(X, axis=0)) / np.std(X, axis=0)\n",
    "\n",
    "# Check if any of the learned weights or bias are NaN or infinite\n",
    "if np.isnan(weights).any() or np.isinf(weights).any() or np.isnan(bias) or np.isinf(bias):\n",
    "    print(\"Learned weights or bias contain NaNs or infinite values.\")\n",
    "    \n",
    "# Identify NaNs or infinite values in the new data\n",
    "nan_indices = np.isnan(new_data_standardized).any(axis=1)\n",
    "inf_indices = np.isinf(new_data_standardized).any(axis=1)\n",
    "\n",
    "\n",
    "# Print indices of rows containing NaNs or infinite values\n",
    "if np.any(nan_indices) or np.any(inf_indices):\n",
    "    print(\"Indices of rows containing NaNs:\")\n",
    "    print(np.where(nan_indices)[0])\n",
    "    print(\"Indices of rows containing infinite values:\")\n",
    "    print(np.where(inf_indices)[0])\n",
    "\n",
    "# Remove rows with NaNs or infinite values from the new data\n",
    "cleaned_new_data_standardized = new_data_standardized[~(nan_indices | inf_indices)]\n",
    "\n",
    "# Adjust the shape of X to match the shape of new_data\n",
    "X_adjusted = X[:, :5]\n",
    "\n",
    "new_data_standardized = (new_data - np.mean(X_adjusted, axis=0)) / np.std(X_adjusted, axis=0)\n",
    "\n",
    "# Make predictions only on cleaned data\n",
    "predicted_productivity = model(cleaned_new_data_standardized, weights, bias)\n",
    "print(f\"Predicted Rank of Productivity: {predicted_productivity[0]:.2f}\")\n",
    "\n",
    "\n",
    "print(\"Shape of new_data_standardized:\", new_data_standardized.shape)\n",
    "print(\"Shape of weights:\", weights.shape)\n",
    "# Remove one weight to match the number of features in the input data\n",
    "weights = weights[:-1]\n",
    "# Make predictions on new data\n",
    "predicted_productivity = model(new_data_standardized, weights, bias)\n",
    "print(f\"Predicted Rank of Productivity: {predicted_productivity[0]:.2f}\")\n"
   ],
   "metadata": {
    "collapsed": false,
    "ExecuteTime": {
     "end_time": "2024-04-21T11:20:51.348747300Z",
     "start_time": "2024-04-21T11:20:51.311268Z"
    }
   },
   "id": "e3ca37eb263efb4e",
   "execution_count": 18
  },
  {
   "cell_type": "code",
   "outputs": [],
   "source": [],
   "metadata": {
    "collapsed": false
   },
   "id": "bf2714a1d15abb24"
  }
 ],
 "metadata": {
  "kernelspec": {
   "display_name": "Python 3",
   "language": "python",
   "name": "python3"
  },
  "language_info": {
   "codemirror_mode": {
    "name": "ipython",
    "version": 2
   },
   "file_extension": ".py",
   "mimetype": "text/x-python",
   "name": "python",
   "nbconvert_exporter": "python",
   "pygments_lexer": "ipython2",
   "version": "2.7.6"
  }
 },
 "nbformat": 4,
 "nbformat_minor": 5
}
